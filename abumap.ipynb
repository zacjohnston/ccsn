{
 "cells": [
  {
   "cell_type": "code",
   "execution_count": 1,
   "metadata": {},
   "outputs": [],
   "source": [
    " from sympy import *\n",
    "init_printing(use_unicode=True)\n",
    "from sympy.assumptions.assume import global_assumptions     "
   ]
  },
  {
   "cell_type": "code",
   "execution_count": 7,
   "metadata": {},
   "outputs": [],
   "source": [
    "Abar, Ye, sumY  = symbols('Abar Y_e sumY')\n",
    "Abarj, Yej, sumXj, sumYj = symbols('Abar_j Y_ej sumX_j sumY_j')\n",
    "\n",
    "Xni, Xfe, Xcr = symbols('X_ni X_fe X_cr')\n",
    "Ani, Afe, Acr = symbols('A_ni A_fe A_cr')\n",
    "Zni, Zfe, Zcr = symbols('Z_ni Z_fe Z_cr')\n",
    "\n",
    "\n",
    "global_assumptions.add(Q.positive(Ani))\n",
    "global_assumptions.add(Q.positive(Afe))\n",
    "global_assumptions.add(Q.positive(Acr))\n",
    "\n",
    "global_assumptions.add(Q.positive(Zni))\n",
    "global_assumptions.add(Q.positive(Zfe))\n",
    "global_assumptions.add(Q.positive(Zcr))\n",
    "\n",
    "global_assumptions.add(Q.positive(Xni))\n",
    "global_assumptions.add(Q.positive(Xfe))\n",
    "global_assumptions.add(Q.positive(Xcr))\n",
    "\n",
    "global_assumptions.add(Q.positive(Abar))\n",
    "global_assumptions.add(Q.positive(Ye))\n",
    "global_assumptions.add(Q.positive(sumY))\n",
    "\n",
    "global_assumptions.add(Q.positive(Abarj))\n",
    "global_assumptions.add(Q.positive(Yej))\n",
    "global_assumptions.add(Q.positive(sumYj))\n",
    "global_assumptions.add(Q.positive(sumXj))"
   ]
  },
  {
   "cell_type": "code",
   "execution_count": 11,
   "metadata": {},
   "outputs": [
    {
     "data": {
      "image/png": "[encoded data removed]",
      "text/latex": [
       "$\\displaystyle sumY_{j}$"
      ],
      "text/plain": [
       "sumY_j"
      ]
     },
     "execution_count": 11,
     "metadata": {},
     "output_type": "execute_result"
    }
   ],
   "source": []
  },
  {
   "cell_type": "code",
   "execution_count": null,
   "metadata": {},
   "outputs": [],
   "source": []
  }
 ],
 "metadata": {
  "file_extension": ".py",
  "kernelspec": {
   "display_name": "Python 3",
   "language": "python",
   "name": "python3"
  },
  "language_info": {
   "codemirror_mode": {
    "name": "ipython",
    "version": 3
   },
   "file_extension": ".py",
   "mimetype": "text/x-python",
   "name": "python",
   "nbconvert_exporter": "python",
   "pygments_lexer": "ipython3",
   "version": "3.7.4"
  },
  "mimetype": "text/x-python",
  "name": "python",
  "npconvert_exporter": "python",
  "pygments_lexer": "ipython3",
  "version": 3
 },
 "nbformat": 4,
 "nbformat_minor": 2
}
